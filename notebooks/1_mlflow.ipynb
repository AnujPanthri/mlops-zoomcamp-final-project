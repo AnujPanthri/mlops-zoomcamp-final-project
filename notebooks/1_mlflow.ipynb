{
 "cells": [
  {
   "cell_type": "code",
   "execution_count": 2,
   "id": "0cf99fc0",
   "metadata": {},
   "outputs": [
    {
     "name": "stdout",
     "output_type": "stream",
     "text": [
      "D:\\personal_work\\mlops-zoomcamp-final-project\n"
     ]
    }
   ],
   "source": [
    "%cd .."
   ]
  },
  {
   "cell_type": "code",
   "execution_count": 7,
   "id": "9d0d2232",
   "metadata": {},
   "outputs": [
    {
     "data": {
      "text/plain": [
       "(<Experiment: artifact_location='s3://smoke-detector-model-bucket/mlflow-artifacts/524217234358898149', creation_time=1720411496761, experiment_id='524217234358898149', last_update_time=1720411496761, lifecycle_stage='active', name='smoke-detection', tags={}>,\n",
       " '524217234358898149')"
      ]
     },
     "execution_count": 7,
     "metadata": {},
     "output_type": "execute_result"
    }
   ],
   "source": [
    "import mlflow\n",
    "from mlflow.tracking import MlflowClient\n",
    "from constants import MLFLOW_TRACKING_URI, MLFLOW_EXPERIMENT_NAME, MLFLOW_MODEL_NAME\n",
    "\n",
    "\n",
    "client = MlflowClient(MLFLOW_TRACKING_URI)\n",
    "mlflow.set_tracking_uri(MLFLOW_TRACKING_URI)\n",
    "mlflow.set_experiment(MLFLOW_EXPERIMENT_NAME)\n",
    "\n",
    "experiment = client.search_experiments(filter_string=f\"name='{MLFLOW_EXPERIMENT_NAME}'\")[0]\n",
    "experiment,experiment.experiment_id"
   ]
  },
  {
   "cell_type": "code",
   "execution_count": 8,
   "id": "d97401ea",
   "metadata": {},
   "outputs": [],
   "source": [
    "registered_models = client.search_registered_models(filter_string=f\"name='{MLFLOW_MODEL_NAME}'\", max_results=1)\n",
    "if len(registered_models)==0:\n",
    "    print(f\"Creating Registered Model: {MLFLOW_MODEL_NAME}\")\n",
    "    client.create_registered_model(\n",
    "        MLFLOW_MODEL_NAME,\n",
    "        tags={\n",
    "            \"task\":\"smoke-detection\",\n",
    "        },\n",
    "    )\n",
    "# client.delete_registered_model(MLFLOW_MODEL_NAME)"
   ]
  },
  {
   "cell_type": "code",
   "execution_count": 9,
   "id": "6823f6e6",
   "metadata": {},
   "outputs": [],
   "source": [
    "# model_uri = f\"runs:/{run.info.run_id}/model\"\n",
    "# mv = mlflow.register_model(model_uri, MLFLOW_MODEL_NAME)"
   ]
  },
  {
   "cell_type": "code",
   "execution_count": 10,
   "id": "0953835b",
   "metadata": {},
   "outputs": [
    {
     "name": "stderr",
     "output_type": "stream",
     "text": [
      "Registered model 'smoke-detection-model' already exists. Creating a new version of this model...\n",
      "2024/07/08 10:19:28 INFO mlflow.store.model_registry.abstract_store: Waiting up to 300 seconds for model version to finish creation. Model name: smoke-detection-model, version 2\n",
      "Created version '2' of model 'smoke-detection-model'.\n",
      "Registered model 'smoke-detection-model' already exists. Creating a new version of this model...\n",
      "2024/07/08 10:19:28 INFO mlflow.store.model_registry.abstract_store: Waiting up to 300 seconds for model version to finish creation. Model name: smoke-detection-model, version 3\n",
      "Created version '3' of model 'smoke-detection-model'.\n"
     ]
    }
   ],
   "source": [
    "runs = client.search_runs(experiment.experiment_id)\n",
    "\n",
    "for run in runs:\n",
    "    if run.data.metrics['val_acc']>70:\n",
    "#         print(run)\n",
    "        model_uri = f\"runs:/{run.info.run_id}/model\"\n",
    "        mv = mlflow.register_model(model_uri, MLFLOW_MODEL_NAME)\n"
   ]
  },
  {
   "cell_type": "code",
   "execution_count": 17,
   "id": "5aec5e6b",
   "metadata": {},
   "outputs": [
    {
     "data": {
      "text/plain": [
       "<RunInfo: artifact_uri='s3://smoke-detector-model-bucket/mlflow-artifacts/524217234358898149/ba59d72917554802bafd5d3c0ad5188b/artifacts', end_time=1720411499159, experiment_id='524217234358898149', lifecycle_stage='active', run_id='ba59d72917554802bafd5d3c0ad5188b', run_name='placid-crab-994', run_uuid='ba59d72917554802bafd5d3c0ad5188b', start_time=1720411497350, status='FINISHED', user_id='panth'>"
      ]
     },
     "execution_count": 17,
     "metadata": {},
     "output_type": "execute_result"
    }
   ],
   "source": [
    "run.info"
   ]
  },
  {
   "cell_type": "code",
   "execution_count": null,
   "id": "6f420d5a",
   "metadata": {},
   "outputs": [],
   "source": []
  }
 ],
 "metadata": {
  "kernelspec": {
   "display_name": "Python 3 (ipykernel)",
   "language": "python",
   "name": "python3"
  },
  "language_info": {
   "codemirror_mode": {
    "name": "ipython",
    "version": 3
   },
   "file_extension": ".py",
   "mimetype": "text/x-python",
   "name": "python",
   "nbconvert_exporter": "python",
   "pygments_lexer": "ipython3",
   "version": "3.12.1"
  }
 },
 "nbformat": 4,
 "nbformat_minor": 5
}
