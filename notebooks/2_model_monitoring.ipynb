{
 "cells": [
  {
   "cell_type": "code",
   "execution_count": 1,
   "id": "04737207",
   "metadata": {},
   "outputs": [
    {
     "name": "stdout",
     "output_type": "stream",
     "text": [
      "d:\\personal_work\\mlops-zoomcamp-final-project\n"
     ]
    },
    {
     "name": "stderr",
     "output_type": "stream",
     "text": [
      "c:\\Users\\panth\\.virtualenvs\\mlops-zoomcamp-final-project-cTPLNhWf\\Lib\\site-packages\\IPython\\core\\magics\\osm.py:417: UserWarning: This is now an optional IPython functionality, setting dhist requires you to install the `pickleshare` library.\n",
      "  self.shell.db['dhist'] = compress_dhist(dhist)[-100:]\n"
     ]
    }
   ],
   "source": [
    "%cd ../"
   ]
  },
  {
   "cell_type": "markdown",
   "id": "f958ed7b",
   "metadata": {},
   "source": [
    "# Load Model"
   ]
  },
  {
   "cell_type": "code",
   "execution_count": 2,
   "id": "956f1420",
   "metadata": {},
   "outputs": [],
   "source": [
    "from constants import SEED, MODEL_DIR, TEST_SIZE, MONITORING_ARTIFACT_DIR\n",
    "from src.prepare_dataset import read_dataset, prepare_data, split_data\n",
    "from src.model import Model\n",
    "import numpy as np\n",
    "import pandas as pd\n",
    "import os\n",
    "from evidently import ColumnMapping\n",
    "from evidently.report import Report\n",
    "from evidently.metrics import ColumnDriftMetric, DatasetDriftMetric\n",
    "\n",
    "os.makedirs(MONITORING_ARTIFACT_DIR, exist_ok=True)"
   ]
  },
  {
   "cell_type": "code",
   "execution_count": 3,
   "id": "0a1c9c02",
   "metadata": {},
   "outputs": [
    {
     "data": {
      "text/plain": [
       "((50104, 3), (50104,), (12526, 3), (12526,))"
      ]
     },
     "execution_count": 3,
     "metadata": {},
     "output_type": "execute_result"
    }
   ],
   "source": [
    "model = Model.from_model_dir(MODEL_DIR)\n",
    "numeric_cols = model.numeric_cols\n",
    "target = model.target\n",
    "\n",
    "df = read_dataset()\n",
    "X, y = prepare_data(df, numeric_cols=numeric_cols, target=target)\n",
    "X_train, X_val, y_train, y_val = split_data(X, y, test_size=TEST_SIZE, random_state=SEED)\n",
    "\n",
    "X_train.shape, y_train.shape, X_val.shape, y_val.shape"
   ]
  },
  {
   "cell_type": "code",
   "execution_count": 4,
   "id": "11b1c57c",
   "metadata": {},
   "outputs": [
    {
     "data": {
      "text/html": [
       "<div>\n",
       "<style scoped>\n",
       "    .dataframe tbody tr th:only-of-type {\n",
       "        vertical-align: middle;\n",
       "    }\n",
       "\n",
       "    .dataframe tbody tr th {\n",
       "        vertical-align: top;\n",
       "    }\n",
       "\n",
       "    .dataframe thead th {\n",
       "        text-align: right;\n",
       "    }\n",
       "</style>\n",
       "<table border=\"1\" class=\"dataframe\">\n",
       "  <thead>\n",
       "    <tr style=\"text-align: right;\">\n",
       "      <th></th>\n",
       "      <th>Humidity[%]</th>\n",
       "      <th>Temperature[C]</th>\n",
       "      <th>eCO2[ppm]</th>\n",
       "      <th>prediction</th>\n",
       "    </tr>\n",
       "  </thead>\n",
       "  <tbody>\n",
       "    <tr>\n",
       "      <th>0</th>\n",
       "      <td>57.52</td>\n",
       "      <td>14.390</td>\n",
       "      <td>400.0</td>\n",
       "      <td>1</td>\n",
       "    </tr>\n",
       "    <tr>\n",
       "      <th>1</th>\n",
       "      <td>42.16</td>\n",
       "      <td>28.560</td>\n",
       "      <td>400.0</td>\n",
       "      <td>0</td>\n",
       "    </tr>\n",
       "    <tr>\n",
       "      <th>2</th>\n",
       "      <td>48.61</td>\n",
       "      <td>21.896</td>\n",
       "      <td>400.0</td>\n",
       "      <td>1</td>\n",
       "    </tr>\n",
       "    <tr>\n",
       "      <th>3</th>\n",
       "      <td>44.72</td>\n",
       "      <td>28.120</td>\n",
       "      <td>412.0</td>\n",
       "      <td>1</td>\n",
       "    </tr>\n",
       "    <tr>\n",
       "      <th>4</th>\n",
       "      <td>49.29</td>\n",
       "      <td>-6.377</td>\n",
       "      <td>400.0</td>\n",
       "      <td>1</td>\n",
       "    </tr>\n",
       "  </tbody>\n",
       "</table>\n",
       "</div>"
      ],
      "text/plain": [
       "   Humidity[%]  Temperature[C]  eCO2[ppm]  prediction\n",
       "0        57.52          14.390      400.0           1\n",
       "1        42.16          28.560      400.0           0\n",
       "2        48.61          21.896      400.0           1\n",
       "3        44.72          28.120      412.0           1\n",
       "4        49.29          -6.377      400.0           1"
      ]
     },
     "execution_count": 4,
     "metadata": {},
     "output_type": "execute_result"
    }
   ],
   "source": [
    "# save reference data\n",
    "def get_data_df(x):\n",
    "    df = pd.DataFrame(x, columns=numeric_cols)\n",
    "    df['prediction'] = model.predict(df)\n",
    "    return df\n",
    "\n",
    "reference_df = get_data_df(X_train)\n",
    "reference_df.to_csv(MONITORING_ARTIFACT_DIR / \"reference.csv\", index=False, header=True)\n",
    "reference_df.head()"
   ]
  },
  {
   "cell_type": "code",
   "execution_count": 5,
   "id": "9c56b341",
   "metadata": {},
   "outputs": [
    {
     "data": {
      "text/html": [
       "<div>\n",
       "<style scoped>\n",
       "    .dataframe tbody tr th:only-of-type {\n",
       "        vertical-align: middle;\n",
       "    }\n",
       "\n",
       "    .dataframe tbody tr th {\n",
       "        vertical-align: top;\n",
       "    }\n",
       "\n",
       "    .dataframe thead th {\n",
       "        text-align: right;\n",
       "    }\n",
       "</style>\n",
       "<table border=\"1\" class=\"dataframe\">\n",
       "  <thead>\n",
       "    <tr style=\"text-align: right;\">\n",
       "      <th></th>\n",
       "      <th>Humidity[%]</th>\n",
       "      <th>Temperature[C]</th>\n",
       "      <th>eCO2[ppm]</th>\n",
       "      <th>prediction</th>\n",
       "    </tr>\n",
       "  </thead>\n",
       "  <tbody>\n",
       "    <tr>\n",
       "      <th>0</th>\n",
       "      <td>49.88</td>\n",
       "      <td>-5.203</td>\n",
       "      <td>400.0</td>\n",
       "      <td>1</td>\n",
       "    </tr>\n",
       "    <tr>\n",
       "      <th>1</th>\n",
       "      <td>50.01</td>\n",
       "      <td>20.990</td>\n",
       "      <td>400.0</td>\n",
       "      <td>1</td>\n",
       "    </tr>\n",
       "    <tr>\n",
       "      <th>2</th>\n",
       "      <td>55.61</td>\n",
       "      <td>-5.234</td>\n",
       "      <td>400.0</td>\n",
       "      <td>1</td>\n",
       "    </tr>\n",
       "    <tr>\n",
       "      <th>3</th>\n",
       "      <td>52.50</td>\n",
       "      <td>0.992</td>\n",
       "      <td>701.0</td>\n",
       "      <td>1</td>\n",
       "    </tr>\n",
       "    <tr>\n",
       "      <th>4</th>\n",
       "      <td>54.14</td>\n",
       "      <td>12.970</td>\n",
       "      <td>406.0</td>\n",
       "      <td>1</td>\n",
       "    </tr>\n",
       "  </tbody>\n",
       "</table>\n",
       "</div>"
      ],
      "text/plain": [
       "   Humidity[%]  Temperature[C]  eCO2[ppm]  prediction\n",
       "0        49.88          -5.203      400.0           1\n",
       "1        50.01          20.990      400.0           1\n",
       "2        55.61          -5.234      400.0           1\n",
       "3        52.50           0.992      701.0           1\n",
       "4        54.14          12.970      406.0           1"
      ]
     },
     "execution_count": 5,
     "metadata": {},
     "output_type": "execute_result"
    }
   ],
   "source": [
    "current_df = get_data_df(X_val)\n",
    "current_df.head()"
   ]
  },
  {
   "cell_type": "code",
   "execution_count": 6,
   "id": "b4bf8960",
   "metadata": {},
   "outputs": [],
   "source": [
    "column_mapping = ColumnMapping(\n",
    "    target=None,\n",
    "    prediction='prediction',\n",
    "    numerical_features=numeric_cols,\n",
    ")"
   ]
  },
  {
   "cell_type": "code",
   "execution_count": 20,
   "id": "c4dc4fbe",
   "metadata": {},
   "outputs": [],
   "source": [
    "report = Report(\n",
    "    metrics=[\n",
    "        ColumnDriftMetric(column_name=\"Temperature[C]\"),\n",
    "        ColumnDriftMetric(column_name=\"Humidity[%]\"),\n",
    "        ColumnDriftMetric(column_name=\"eCO2[ppm]\"),\n",
    "        DatasetDriftMetric(),\n",
    "    ]\n",
    ")"
   ]
  },
  {
   "cell_type": "code",
   "execution_count": 21,
   "id": "f8484934",
   "metadata": {},
   "outputs": [],
   "source": [
    "report.run(reference_data=reference_df, current_data=current_df, column_mapping=column_mapping)"
   ]
  },
  {
   "cell_type": "code",
   "execution_count": 1,
   "id": "cf9bca25",
   "metadata": {},
   "outputs": [],
   "source": [
    "# report.show(mode=\"inline\")"
   ]
  },
  {
   "cell_type": "code",
   "execution_count": 23,
   "id": "0ca35c11",
   "metadata": {},
   "outputs": [],
   "source": [
    "result = report.as_dict()"
   ]
  },
  {
   "cell_type": "code",
   "execution_count": 17,
   "id": "d8970a8c",
   "metadata": {},
   "outputs": [
    {
     "data": {
      "text/plain": [
       "0.008870631843781385"
      ]
     },
     "execution_count": 17,
     "metadata": {},
     "output_type": "execute_result"
    }
   ],
   "source": [
    "# temperature column drift\n",
    "result[\"metrics\"][0]['result']['drift_score']"
   ]
  },
  {
   "cell_type": "code",
   "execution_count": 26,
   "id": "f52cba78",
   "metadata": {},
   "outputs": [
    {
     "data": {
      "text/plain": [
       "0.014511600725613015"
      ]
     },
     "execution_count": 26,
     "metadata": {},
     "output_type": "execute_result"
    }
   ],
   "source": [
    "# humidity column drift\n",
    "result[\"metrics\"][1]['result']['drift_score']"
   ]
  },
  {
   "cell_type": "code",
   "execution_count": 27,
   "id": "2f7f49da",
   "metadata": {},
   "outputs": [
    {
     "data": {
      "text/plain": [
       "0.006778503350536544"
      ]
     },
     "execution_count": 27,
     "metadata": {},
     "output_type": "execute_result"
    }
   ],
   "source": [
    "# eCO2 column drift\n",
    "result[\"metrics\"][2]['result']['drift_score']"
   ]
  },
  {
   "cell_type": "code",
   "execution_count": 28,
   "id": "0caf7a8f",
   "metadata": {},
   "outputs": [
    {
     "data": {
      "text/plain": [
       "0"
      ]
     },
     "execution_count": 28,
     "metadata": {},
     "output_type": "execute_result"
    }
   ],
   "source": [
    "# number of drifted columns\n",
    "result[\"metrics\"][3]['result']['number_of_drifted_columns']"
   ]
  },
  {
   "cell_type": "code",
   "execution_count": null,
   "id": "0e7f82b4",
   "metadata": {},
   "outputs": [],
   "source": []
  }
 ],
 "metadata": {
  "kernelspec": {
   "display_name": "Python 3 (ipykernel)",
   "language": "python",
   "name": "python3"
  },
  "language_info": {
   "codemirror_mode": {
    "name": "ipython",
    "version": 3
   },
   "file_extension": ".py",
   "mimetype": "text/x-python",
   "name": "python",
   "nbconvert_exporter": "python",
   "pygments_lexer": "ipython3",
   "version": "3.11.4"
  }
 },
 "nbformat": 4,
 "nbformat_minor": 5
}
