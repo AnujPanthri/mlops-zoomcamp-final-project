{
 "cells": [
  {
   "cell_type": "code",
   "execution_count": 1,
   "id": "04737207",
   "metadata": {},
   "outputs": [
    {
     "name": "stdout",
     "output_type": "stream",
     "text": [
      "d:\\personal_work\\mlops-zoomcamp-final-project\n"
     ]
    },
    {
     "name": "stderr",
     "output_type": "stream",
     "text": [
      "c:\\Users\\panth\\.virtualenvs\\mlops-zoomcamp-final-project-cTPLNhWf\\Lib\\site-packages\\IPython\\core\\magics\\osm.py:417: UserWarning: This is now an optional IPython functionality, setting dhist requires you to install the `pickleshare` library.\n",
      "  self.shell.db['dhist'] = compress_dhist(dhist)[-100:]\n"
     ]
    }
   ],
   "source": [
    "%cd ../"
   ]
  },
  {
   "cell_type": "markdown",
   "id": "f958ed7b",
   "metadata": {},
   "source": [
    "# Load Model"
   ]
  },
  {
   "cell_type": "code",
   "execution_count": 2,
   "id": "956f1420",
   "metadata": {},
   "outputs": [],
   "source": [
    "from constants import SEED, MODEL_DIR, TEST_SIZE, MONITORING_ARTIFACT_DIR\n",
    "from src.prepare_dataset import read_dataset, prepare_data, split_data\n",
    "from src.model import Model\n",
    "import numpy as np\n",
    "import pandas as pd\n",
    "import os\n",
    "from evidently import ColumnMapping\n",
    "from evidently.report import Report\n",
    "from evidently.metrics import ColumnDriftMetric, DatasetDriftMetric\n",
    "\n",
    "os.makedirs(MONITORING_ARTIFACT_DIR, exist_ok=True)"
   ]
  },
  {
   "cell_type": "code",
   "execution_count": 3,
   "id": "0a1c9c02",
   "metadata": {},
   "outputs": [
    {
     "data": {
      "text/plain": [
       "((50104, 2), (50104,), (12526, 2), (12526,))"
      ]
     },
     "execution_count": 3,
     "metadata": {},
     "output_type": "execute_result"
    }
   ],
   "source": [
    "model = Model.from_model_dir(MODEL_DIR)\n",
    "numeric_cols = model.numeric_cols\n",
    "target = model.target\n",
    "\n",
    "df = read_dataset()\n",
    "X, y = prepare_data(df, numeric_cols=numeric_cols, target=target)\n",
    "X_train, X_val, y_train, y_val = split_data(X, y, test_size=TEST_SIZE, random_state=SEED)\n",
    "\n",
    "X_train.shape, y_train.shape, X_val.shape, y_val.shape"
   ]
  },
  {
   "cell_type": "code",
   "execution_count": 4,
   "id": "11b1c57c",
   "metadata": {},
   "outputs": [
    {
     "data": {
      "text/html": [
       "<div>\n",
       "<style scoped>\n",
       "    .dataframe tbody tr th:only-of-type {\n",
       "        vertical-align: middle;\n",
       "    }\n",
       "\n",
       "    .dataframe tbody tr th {\n",
       "        vertical-align: top;\n",
       "    }\n",
       "\n",
       "    .dataframe thead th {\n",
       "        text-align: right;\n",
       "    }\n",
       "</style>\n",
       "<table border=\"1\" class=\"dataframe\">\n",
       "  <thead>\n",
       "    <tr style=\"text-align: right;\">\n",
       "      <th></th>\n",
       "      <th>Humidity[%]</th>\n",
       "      <th>Temperature[C]</th>\n",
       "      <th>prediction</th>\n",
       "    </tr>\n",
       "  </thead>\n",
       "  <tbody>\n",
       "    <tr>\n",
       "      <th>0</th>\n",
       "      <td>57.52</td>\n",
       "      <td>14.390</td>\n",
       "      <td>1</td>\n",
       "    </tr>\n",
       "    <tr>\n",
       "      <th>1</th>\n",
       "      <td>42.16</td>\n",
       "      <td>28.560</td>\n",
       "      <td>1</td>\n",
       "    </tr>\n",
       "    <tr>\n",
       "      <th>2</th>\n",
       "      <td>48.61</td>\n",
       "      <td>21.896</td>\n",
       "      <td>1</td>\n",
       "    </tr>\n",
       "    <tr>\n",
       "      <th>3</th>\n",
       "      <td>44.72</td>\n",
       "      <td>28.120</td>\n",
       "      <td>1</td>\n",
       "    </tr>\n",
       "    <tr>\n",
       "      <th>4</th>\n",
       "      <td>49.29</td>\n",
       "      <td>-6.377</td>\n",
       "      <td>1</td>\n",
       "    </tr>\n",
       "  </tbody>\n",
       "</table>\n",
       "</div>"
      ],
      "text/plain": [
       "   Humidity[%]  Temperature[C]  prediction\n",
       "0        57.52          14.390           1\n",
       "1        42.16          28.560           1\n",
       "2        48.61          21.896           1\n",
       "3        44.72          28.120           1\n",
       "4        49.29          -6.377           1"
      ]
     },
     "execution_count": 4,
     "metadata": {},
     "output_type": "execute_result"
    }
   ],
   "source": [
    "# save reference data\n",
    "def get_data_df(x):\n",
    "    df = pd.DataFrame(x, columns=numeric_cols)\n",
    "    df['prediction'] = model.predict(df)\n",
    "    return df\n",
    "\n",
    "reference_df = get_data_df(X_train)\n",
    "reference_df.to_csv(MONITORING_ARTIFACT_DIR / \"reference.csv\", index=False, header=True)\n",
    "reference_df.head()"
   ]
  },
  {
   "cell_type": "code",
   "execution_count": 5,
   "id": "9c56b341",
   "metadata": {},
   "outputs": [
    {
     "data": {
      "text/html": [
       "<div>\n",
       "<style scoped>\n",
       "    .dataframe tbody tr th:only-of-type {\n",
       "        vertical-align: middle;\n",
       "    }\n",
       "\n",
       "    .dataframe tbody tr th {\n",
       "        vertical-align: top;\n",
       "    }\n",
       "\n",
       "    .dataframe thead th {\n",
       "        text-align: right;\n",
       "    }\n",
       "</style>\n",
       "<table border=\"1\" class=\"dataframe\">\n",
       "  <thead>\n",
       "    <tr style=\"text-align: right;\">\n",
       "      <th></th>\n",
       "      <th>Humidity[%]</th>\n",
       "      <th>Temperature[C]</th>\n",
       "      <th>prediction</th>\n",
       "    </tr>\n",
       "  </thead>\n",
       "  <tbody>\n",
       "    <tr>\n",
       "      <th>0</th>\n",
       "      <td>49.88</td>\n",
       "      <td>-5.203</td>\n",
       "      <td>1</td>\n",
       "    </tr>\n",
       "    <tr>\n",
       "      <th>1</th>\n",
       "      <td>50.01</td>\n",
       "      <td>20.990</td>\n",
       "      <td>1</td>\n",
       "    </tr>\n",
       "    <tr>\n",
       "      <th>2</th>\n",
       "      <td>55.61</td>\n",
       "      <td>-5.234</td>\n",
       "      <td>1</td>\n",
       "    </tr>\n",
       "    <tr>\n",
       "      <th>3</th>\n",
       "      <td>52.50</td>\n",
       "      <td>0.992</td>\n",
       "      <td>1</td>\n",
       "    </tr>\n",
       "    <tr>\n",
       "      <th>4</th>\n",
       "      <td>54.14</td>\n",
       "      <td>12.970</td>\n",
       "      <td>1</td>\n",
       "    </tr>\n",
       "  </tbody>\n",
       "</table>\n",
       "</div>"
      ],
      "text/plain": [
       "   Humidity[%]  Temperature[C]  prediction\n",
       "0        49.88          -5.203           1\n",
       "1        50.01          20.990           1\n",
       "2        55.61          -5.234           1\n",
       "3        52.50           0.992           1\n",
       "4        54.14          12.970           1"
      ]
     },
     "execution_count": 5,
     "metadata": {},
     "output_type": "execute_result"
    }
   ],
   "source": [
    "current_df = get_data_df(X_val)\n",
    "current_df.head()"
   ]
  },
  {
   "cell_type": "code",
   "execution_count": 6,
   "id": "b4bf8960",
   "metadata": {},
   "outputs": [],
   "source": [
    "column_mapping = ColumnMapping(\n",
    "    target=None,\n",
    "    prediction='prediction',\n",
    "    numerical_features=numeric_cols,\n",
    ")"
   ]
  },
  {
   "cell_type": "code",
   "execution_count": 7,
   "id": "c4dc4fbe",
   "metadata": {},
   "outputs": [],
   "source": [
    "report = Report(\n",
    "    metrics=[\n",
    "        ColumnDriftMetric(column_name=\"Humidity[%]\"),\n",
    "        ColumnDriftMetric(column_name=\"Temperature[C]\"),\n",
    "        # ColumnDriftMetric(column_name=\"eCO2[ppm]\"),\n",
    "        DatasetDriftMetric(),\n",
    "    ]\n",
    ")"
   ]
  },
  {
   "cell_type": "code",
   "execution_count": 8,
   "id": "f8484934",
   "metadata": {},
   "outputs": [],
   "source": [
    "report.run(reference_data=reference_df, current_data=current_df.iloc[:1], column_mapping=column_mapping)"
   ]
  },
  {
   "cell_type": "code",
   "execution_count": 9,
   "id": "cf9bca25",
   "metadata": {},
   "outputs": [],
   "source": [
    "# report.show(mode=\"inline\")"
   ]
  },
  {
   "cell_type": "code",
   "execution_count": 10,
   "id": "0ca35c11",
   "metadata": {},
   "outputs": [],
   "source": [
    "result = report.as_dict()"
   ]
  },
  {
   "cell_type": "code",
   "execution_count": 12,
   "id": "1654080d",
   "metadata": {},
   "outputs": [
    {
     "data": {
      "text/plain": [
       "{'metric': 'ColumnDriftMetric',\n",
       " 'result': {'column_name': 'Humidity[%]',\n",
       "  'column_type': 'num',\n",
       "  'stattest_name': 'Wasserstein distance (normed)',\n",
       "  'stattest_threshold': 0.1,\n",
       "  'drift_score': 0.5774265336348993,\n",
       "  'drift_detected': True,\n",
       "  'current': {'small_distribution': {'x': [49.38,\n",
       "     49.480000000000004,\n",
       "     49.580000000000005,\n",
       "     49.68,\n",
       "     49.78,\n",
       "     49.88,\n",
       "     49.980000000000004,\n",
       "     50.080000000000005,\n",
       "     50.18,\n",
       "     50.28,\n",
       "     50.38],\n",
       "    'y': [0.0, 0.0, 0.0, 0.0, 0.0, 9.999999999999858, 0.0, 0.0, 0.0, 0.0]}},\n",
       "  'reference': {'small_distribution': {'x': [10.77,\n",
       "     17.213,\n",
       "     23.656,\n",
       "     30.099,\n",
       "     36.542,\n",
       "     42.985,\n",
       "     49.428,\n",
       "     55.87100000000001,\n",
       "     62.31400000000001,\n",
       "     68.757,\n",
       "     75.2],\n",
       "    'y': [0.004934637397639883,\n",
       "     0.0025277238647044235,\n",
       "     0.0015984136203277964,\n",
       "     0.0009200171419328595,\n",
       "     0.008760297903656997,\n",
       "     0.050960276100799604,\n",
       "     0.0744098712672363,\n",
       "     0.009466573689383233,\n",
       "     0.001474505587744247,\n",
       "     0.00015488504072943773]}}}}"
      ]
     },
     "execution_count": 12,
     "metadata": {},
     "output_type": "execute_result"
    }
   ],
   "source": [
    "result[\"metrics\"][0]"
   ]
  },
  {
   "cell_type": "code",
   "execution_count": 14,
   "id": "b10d608f",
   "metadata": {},
   "outputs": [
    {
     "data": {
      "text/plain": [
       "{'metric': 'DatasetDriftMetric',\n",
       " 'result': {'drift_share': 0.5,\n",
       "  'number_of_columns': 3,\n",
       "  'number_of_drifted_columns': 3,\n",
       "  'share_of_drifted_columns': 1.0,\n",
       "  'dataset_drift': True}}"
      ]
     },
     "execution_count": 14,
     "metadata": {},
     "output_type": "execute_result"
    }
   ],
   "source": [
    "result[\"metrics\"][2]"
   ]
  },
  {
   "cell_type": "code",
   "execution_count": 11,
   "id": "d8970a8c",
   "metadata": {},
   "outputs": [
    {
     "data": {
      "text/plain": [
       "0.5774265336348993"
      ]
     },
     "execution_count": 11,
     "metadata": {},
     "output_type": "execute_result"
    }
   ],
   "source": [
    "# temperature column drift\n",
    "result[\"metrics\"][0]['result']['drift_score']"
   ]
  },
  {
   "cell_type": "code",
   "execution_count": 42,
   "id": "f52cba78",
   "metadata": {},
   "outputs": [
    {
     "data": {
      "text/plain": [
       "0.5774265336348993"
      ]
     },
     "execution_count": 42,
     "metadata": {},
     "output_type": "execute_result"
    }
   ],
   "source": [
    "# humidity column drift\n",
    "result[\"metrics\"][1]['result']['drift_score']"
   ]
  },
  {
   "cell_type": "code",
   "execution_count": 43,
   "id": "2f7f49da",
   "metadata": {},
   "outputs": [
    {
     "data": {
      "text/plain": [
       "0.14145425030440242"
      ]
     },
     "execution_count": 43,
     "metadata": {},
     "output_type": "execute_result"
    }
   ],
   "source": [
    "# eCO2 column drift\n",
    "result[\"metrics\"][2]['result']['drift_score']"
   ]
  },
  {
   "cell_type": "code",
   "execution_count": 44,
   "id": "0caf7a8f",
   "metadata": {},
   "outputs": [
    {
     "data": {
      "text/plain": [
       "4"
      ]
     },
     "execution_count": 44,
     "metadata": {},
     "output_type": "execute_result"
    }
   ],
   "source": [
    "# number of drifted columns\n",
    "result[\"metrics\"][3]['result']['number_of_drifted_columns']"
   ]
  },
  {
   "cell_type": "code",
   "execution_count": 45,
   "id": "0e7f82b4",
   "metadata": {},
   "outputs": [
    {
     "data": {
      "text/plain": [
       "{'drift_share': 0.5,\n",
       " 'number_of_columns': 4,\n",
       " 'number_of_drifted_columns': 4,\n",
       " 'share_of_drifted_columns': 1.0,\n",
       " 'dataset_drift': True}"
      ]
     },
     "execution_count": 45,
     "metadata": {},
     "output_type": "execute_result"
    }
   ],
   "source": [
    "result[\"metrics\"][3]['result']"
   ]
  },
  {
   "cell_type": "code",
   "execution_count": 13,
   "id": "276e8c38",
   "metadata": {},
   "outputs": [
    {
     "data": {
      "text/plain": [
       "Index(['Unnamed: 0', 'UTC', 'Temperature[C]', 'Humidity[%]', 'TVOC[ppb]',\n",
       "       'eCO2[ppm]', 'Raw H2', 'Raw Ethanol', 'Pressure[hPa]', 'PM1.0', 'PM2.5',\n",
       "       'NC0.5', 'NC1.0', 'NC2.5', 'CNT', 'Fire Alarm'],\n",
       "      dtype='object')"
      ]
     },
     "execution_count": 13,
     "metadata": {},
     "output_type": "execute_result"
    }
   ],
   "source": [
    "df.columns"
   ]
  },
  {
   "cell_type": "code",
   "execution_count": null,
   "id": "e6ca2472",
   "metadata": {},
   "outputs": [],
   "source": []
  }
 ],
 "metadata": {
  "kernelspec": {
   "display_name": "Python 3 (ipykernel)",
   "language": "python",
   "name": "python3"
  },
  "language_info": {
   "codemirror_mode": {
    "name": "ipython",
    "version": 3
   },
   "file_extension": ".py",
   "mimetype": "text/x-python",
   "name": "python",
   "nbconvert_exporter": "python",
   "pygments_lexer": "ipython3",
   "version": "3.11.4"
  }
 },
 "nbformat": 4,
 "nbformat_minor": 5
}
